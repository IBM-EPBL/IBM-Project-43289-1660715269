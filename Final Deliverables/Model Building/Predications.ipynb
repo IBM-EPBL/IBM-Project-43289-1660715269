{
  "nbformat": 4,
  "nbformat_minor": 0,
  "metadata": {
    "colab": {
      "provenance": [],
      "collapsed_sections": []
    },
    "kernelspec": {
      "name": "python3",
      "display_name": "Python 3"
    },
    "language_info": {
      "name": "python"
    }
  },
  "cells": [
    {
      "cell_type": "code",
      "source": [
        "from google.colab import drive\n",
        "drive.mount('/content/drive')"
      ],
      "metadata": {
        "colab": {
          "base_uri": "https://localhost:8080/"
        },
        "id": "F5Y8BAMJvxeb",
        "outputId": "d3c83e19-9c53-4c21-a9f6-0100c2540ba3"
      },
      "execution_count": 2,
      "outputs": [
        {
          "output_type": "stream",
          "name": "stdout",
          "text": [
            "Drive already mounted at /content/drive; to attempt to forcibly remount, call drive.mount(\"/content/drive\", force_remount=True).\n"
          ]
        }
      ]
    },
    {
      "cell_type": "code",
      "execution_count": 3,
      "metadata": {
        "id": "vJdVKTMG0Dr4"
      },
      "outputs": [],
      "source": [
        "import keras\n",
        "from keras.preprocessing.image import ImageDataGenerator"
      ]
    },
    {
      "cell_type": "code",
      "source": [
        "#Define the parameters/arguments for ImageDataGenerator class\n",
        "train_datagen=ImageDataGenerator(rescale=1./255,shear_range=0.2,rotation_range=180,zoom_range=0.2,horizontal_flip=True)\n",
        "\n",
        "test_datagen=ImageDataGenerator(rescale=1./255)"
      ],
      "metadata": {
        "id": "VkcKoBjC0xM9"
      },
      "execution_count": 4,
      "outputs": []
    },
    {
      "cell_type": "code",
      "source": [
        "#Applying ImageDataGenerator functionality to trainset\n",
        "x_train=train_datagen.flow_from_directory('/content/drive/MyDrive/Dataset/train_set',target_size=(128,128),batch_size=32,class_mode='binary')\n",
        "#Applying ImageDataGenerator functionality to testset\n",
        "x_test=test_datagen.flow_from_directory('/content/drive/MyDrive/Dataset/test_set',target_size=(128,128),batch_size=32,class_mode='binary')"
      ],
      "metadata": {
        "colab": {
          "base_uri": "https://localhost:8080/"
        },
        "id": "KJUvt-UJ02Eg",
        "outputId": "5b9b028c-5ecc-467b-ed51-40fee46d450d"
      },
      "execution_count": 5,
      "outputs": [
        {
          "output_type": "stream",
          "name": "stdout",
          "text": [
            "Found 436 images belonging to 2 classes.\n",
            "Found 121 images belonging to 2 classes.\n"
          ]
        }
      ]
    },
    {
      "cell_type": "code",
      "source": [
        "#import model building libraries\n",
        "\n",
        "#To define Linear initialisation import Sequential\n",
        "from keras.models import Sequential\n",
        "#To add layers import Dense\n",
        "from keras.layers import Dense\n",
        "#To create Convolution kernel import Convolution2D\n",
        "from keras.layers import Convolution2D\n",
        "#import Maxpooling layer\n",
        "from keras.layers import MaxPooling2D\n",
        "#import flatten layer\n",
        "from keras.layers import Flatten\n",
        "import warnings\n",
        "warnings.filterwarnings('ignore')"
      ],
      "metadata": {
        "id": "GJY3sAnDbnPr"
      },
      "execution_count": 6,
      "outputs": []
    },
    {
      "cell_type": "code",
      "source": [
        "#initializing the model\n",
        "model=Sequential()"
      ],
      "metadata": {
        "id": "WrQt-BshcIsx"
      },
      "execution_count": 7,
      "outputs": []
    },
    {
      "cell_type": "code",
      "source": [
        "#add convolutional layer\n",
        "model.add(Convolution2D(32,(3,3),input_shape=(128,128,3),activation='relu'))\n",
        "#add maxpooling layer\n",
        "model.add(MaxPooling2D(pool_size=(2,2)))\n",
        "#add flatten layer \n",
        "model.add(Flatten())"
      ],
      "metadata": {
        "id": "d4yN00bZcOC3"
      },
      "execution_count": 8,
      "outputs": []
    },
    {
      "cell_type": "code",
      "source": [
        "#configure the learning process\n",
        "model.compile(loss='binary_crossentropy',optimizer=\"adam\",metrics=[\"accuracy\"])"
      ],
      "metadata": {
        "id": "_7fEimircQfo"
      },
      "execution_count": 9,
      "outputs": []
    },
    {
      "cell_type": "code",
      "source": [
        "#Training the model\n",
        "model.fit_generator(x_train,steps_per_epoch=14,epochs=10,validation_data=x_test,validation_steps=4)"
      ],
      "metadata": {
        "colab": {
          "base_uri": "https://localhost:8080/"
        },
        "id": "pZeIUA-hcgIg",
        "outputId": "60a6b336-90d3-44ab-b8af-b6897966939a"
      },
      "execution_count": 12,
      "outputs": [
        {
          "output_type": "stream",
          "name": "stdout",
          "text": [
            "Epoch 1/10\n",
            "14/14 [==============================] - 35s 3s/step - loss: 0.8671 - accuracy: 0.0000e+00 - val_loss: 0.9539 - val_accuracy: 0.0000e+00\n",
            "Epoch 2/10\n",
            "14/14 [==============================] - 27s 2s/step - loss: 0.8635 - accuracy: 0.0000e+00 - val_loss: 0.9466 - val_accuracy: 0.0000e+00\n",
            "Epoch 3/10\n",
            "14/14 [==============================] - 25s 2s/step - loss: 0.8593 - accuracy: 0.0000e+00 - val_loss: 0.9396 - val_accuracy: 0.0000e+00\n",
            "Epoch 4/10\n",
            "14/14 [==============================] - 25s 2s/step - loss: 0.8536 - accuracy: 0.0000e+00 - val_loss: 0.9331 - val_accuracy: 0.0000e+00\n",
            "Epoch 5/10\n",
            "14/14 [==============================] - 25s 2s/step - loss: 0.8530 - accuracy: 0.0000e+00 - val_loss: 0.9270 - val_accuracy: 0.0000e+00\n",
            "Epoch 6/10\n",
            "14/14 [==============================] - 25s 2s/step - loss: 0.8466 - accuracy: 0.0000e+00 - val_loss: 0.9213 - val_accuracy: 0.0000e+00\n",
            "Epoch 7/10\n",
            "14/14 [==============================] - 25s 2s/step - loss: 0.8430 - accuracy: 0.0000e+00 - val_loss: 0.9162 - val_accuracy: 0.0000e+00\n",
            "Epoch 8/10\n",
            "14/14 [==============================] - 26s 2s/step - loss: 0.8411 - accuracy: 0.0000e+00 - val_loss: 0.9109 - val_accuracy: 0.0000e+00\n",
            "Epoch 9/10\n",
            "14/14 [==============================] - 25s 2s/step - loss: 0.8365 - accuracy: 0.0000e+00 - val_loss: 0.9056 - val_accuracy: 0.0000e+00\n",
            "Epoch 10/10\n",
            "14/14 [==============================] - 25s 2s/step - loss: 0.8309 - accuracy: 0.0000e+00 - val_loss: 0.9008 - val_accuracy: 0.0000e+00\n"
          ]
        },
        {
          "output_type": "execute_result",
          "data": {
            "text/plain": [
              "<keras.callbacks.History at 0x7f3b8b536cd0>"
            ]
          },
          "metadata": {},
          "execution_count": 12
        }
      ]
    },
    {
      "cell_type": "code",
      "source": [
        "model.save(\"forest1.h5\")"
      ],
      "metadata": {
        "id": "i8Rse9FIeh4d"
      },
      "execution_count": 11,
      "outputs": []
    },
    {
      "cell_type": "code",
      "source": [
        "#import load_model from keras.model\n",
        "from keras.models import load_model\n",
        "#import image class from keras\n",
        "from tensorflow.keras.preprocessing import image\n",
        "#import numpy\n",
        "import numpy as np\n",
        "#import cv2\n",
        "import cv2"
      ],
      "metadata": {
        "id": "l_uYNnWdemRf"
      },
      "execution_count": 27,
      "outputs": []
    },
    {
      "cell_type": "code",
      "source": [
        "#load the saved model\n",
        "from keras.models import load_model\n",
        "model = load_model(\"forest1.h5\")"
      ],
      "metadata": {
        "id": "ht7DavlfwIUO"
      },
      "execution_count": 28,
      "outputs": []
    },
    {
      "cell_type": "code",
      "source": [
        "img=image.load_img('/content/drive/MyDrive/Dataset/test_set/with fire/180802_CarrFire_010_large_700x467.jpg')\n",
        "x=image.img_to_array(img)\n",
        "res = cv2.resize(x, dsize=(128, 128), interpolation=cv2.INTER_CUBIC)\n",
        "#expand the image shape\n",
        "x=np.expand_dims(res,axis=0)"
      ],
      "metadata": {
        "id": "wANct6gIwL4d"
      },
      "execution_count": 29,
      "outputs": []
    },
    {
      "cell_type": "code",
      "source": [
        "pred=model.predict(x)"
      ],
      "metadata": {
        "colab": {
          "base_uri": "https://localhost:8080/"
        },
        "id": "etpI9u2HwN6i",
        "outputId": "1ae40e9b-8b73-43c4-b17d-dab7b206a998"
      },
      "execution_count": 30,
      "outputs": [
        {
          "output_type": "stream",
          "name": "stdout",
          "text": [
            "1/1 [==============================] - 0s 116ms/step\n"
          ]
        }
      ]
    },
    {
      "cell_type": "code",
      "source": [
        "pred"
      ],
      "metadata": {
        "colab": {
          "base_uri": "https://localhost:8080/"
        },
        "id": "P0rH1JrNwQLx",
        "outputId": "a8bfd649-3cda-44bb-a127-47d3542bff1d"
      },
      "execution_count": 31,
      "outputs": [
        {
          "output_type": "execute_result",
          "data": {
            "text/plain": [
              "array([[ 6.7821245,  8.74631  ,  4.9752026, ..., 24.015257 , 12.481367 ,\n",
              "        21.24961  ]], dtype=float32)"
            ]
          },
          "metadata": {},
          "execution_count": 31
        }
      ]
    },
    {
      "cell_type": "code",
      "source": [],
      "metadata": {
        "id": "NuoOjhl7wQ6C"
      },
      "execution_count": null,
      "outputs": []
    }
  ]
}